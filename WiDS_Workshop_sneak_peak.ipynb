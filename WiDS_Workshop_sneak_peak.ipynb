{
  "nbformat": 4,
  "nbformat_minor": 0,
  "metadata": {
    "kernelspec": {
      "language": "python",
      "display_name": "Python 3",
      "name": "python3"
    },
    "language_info": {
      "pygments_lexer": "ipython3",
      "nbconvert_exporter": "python",
      "version": "3.6.4",
      "file_extension": ".py",
      "codemirror_mode": {
        "name": "ipython",
        "version": 3
      },
      "name": "python",
      "mimetype": "text/x-python"
    },
    "colab": {
      "name": "WiDS_Workshop_sneak_peak.ipynb",
      "provenance": [],
      "include_colab_link": true
    }
  },
  "cells": [
    {
      "cell_type": "markdown",
      "metadata": {
        "id": "view-in-github",
        "colab_type": "text"
      },
      "source": [
        "<a href=\"https://colab.research.google.com/github/dawn-ds/WiDS_Workshop_2021/blob/main/WiDS_Workshop_sneak_peak.ipynb\" target=\"_parent\"><img src=\"https://colab.research.google.com/assets/colab-badge.svg\" alt=\"Open In Colab\"/></a>"
      ]
    },
    {
      "cell_type": "code",
      "metadata": {
        "_uuid": "8f2839f25d086af736a60e9eeb907d3b93b6e0e5",
        "_cell_guid": "b1076dfc-b9ad-4769-8c92-a6c4dae69d19",
        "trusted": true,
        "id": "A76CDYhaRhsT"
      },
      "source": [
        "import pickle\n",
        "import matplotlib.pyplot as plt\n",
        "import numpy as np\n",
        "from matplotlib.animation import FuncAnimation\n",
        "import math \n",
        "from matplotlib import animation, rc\n",
        "plt.style.use('seaborn-pastel')"
      ],
      "execution_count": 1,
      "outputs": []
    },
    {
      "cell_type": "code",
      "metadata": {
        "trusted": true,
        "id": "tzYVTvMtRhsZ"
      },
      "source": [
        "# color-blind safe colors, from colorbrew.com\n",
        "color_green = \"#008837\" #green shade\n",
        "color_purple = \"#7b3294\" #purple shade\n",
        "color_orange = \"#e66101\" #orange shade\n"
      ],
      "execution_count": 2,
      "outputs": []
    },
    {
      "cell_type": "markdown",
      "metadata": {
        "id": "gTItDDT2Rhsa"
      },
      "source": [
        "# If you haven't learned good viz practices, it is hard to make a good figure, as the animation below shows"
      ]
    },
    {
      "cell_type": "code",
      "metadata": {
        "trusted": true,
        "colab": {
          "base_uri": "https://localhost:8080/",
          "height": 521
        },
        "id": "ij7oLj4dRhsa",
        "outputId": "d51e006d-b19c-4154-f0a6-a620233a2e66"
      },
      "source": [
        "from IPython.display import HTML, display\n",
        "\n",
        "\n",
        "fig, ax = plt.subplots(1,1, figsize=(5,5), dpi=100)\n",
        "ax = plt.axes(xlim=(0, 5), ylim=(0, 24))\n",
        "ax.set_title('Time to plot, without learning good viz practices')\n",
        "\n",
        "ax.spines['top'].set_visible(False)\n",
        "ax.spines['right'].set_visible(False)\n",
        "ax.set_xlabel('Type of plot', fontsize=14)\n",
        "ax.set_ylabel('Time to viz (hrs)', fontsize=14)\n",
        "\n",
        "plt.xticks([1,2,3,4], ['Line\\n graph', 'Histogram', 'Mix:\\n Line, Hist.', 'All previous,\\n but nice'])\n",
        "\n",
        "line, = plt.plot([], [], lw=3, color=color_orange)\n",
        "\n",
        "def init():\n",
        "    line.set_data([], [])\n",
        "    return line,\n",
        "\n",
        "def animate(i):\n",
        "    x = np.arange(0, i+1, 1)\n",
        "    if i <=3:\n",
        "        y = np.exp(x/5)\n",
        "    if i==4:\n",
        "        y = []\n",
        "        for j in range(4):\n",
        "            y.append(math.exp(x[j]/5))\n",
        "        y.append(24)\n",
        "        y = np.asarray(y)\n",
        "        \n",
        "   \n",
        "    line.set_data(x, y)\n",
        "    return line,\n",
        "\n",
        "anim = FuncAnimation(fig, animate, init_func=init,\n",
        "                               frames=5, interval=1000, blit=True);\n",
        "\n",
        "plt.close(anim._fig)\n",
        "\n",
        "display(HTML(anim.to_html5_video()))"
      ],
      "execution_count": 3,
      "outputs": [
        {
          "output_type": "display_data",
          "data": {
            "text/html": [
              "<video width=\"500\" height=\"500\" controls autoplay loop>\n",
              "  <source type=\"video/mp4\" src=\"data:video/mp4;base64,AAAAHGZ0eXBNNFYgAAACAGlzb21pc28yYXZjMQAAAAhmcmVlAAA4mW1kYXQAAAKtBgX//6ncRem9\n",
              "5tlIt5Ys2CDZI+7veDI2NCAtIGNvcmUgMTUyIHIyODU0IGU5YTU5MDMgLSBILjI2NC9NUEVHLTQg\n",
              "QVZDIGNvZGVjIC0gQ29weWxlZnQgMjAwMy0yMDE3IC0gaHR0cDovL3d3dy52aWRlb2xhbi5vcmcv\n",
              "eDI2NC5odG1sIC0gb3B0aW9uczogY2FiYWM9MSByZWY9MyBkZWJsb2NrPTE6MDowIGFuYWx5c2U9\n",
              "MHgzOjB4MTEzIG1lPWhleCBzdWJtZT03IHBzeT0xIHBzeV9yZD0xLjAwOjAuMDAgbWl4ZWRfcmVm\n",
              "PTEgbWVfcmFuZ2U9MTYgY2hyb21hX21lPTEgdHJlbGxpcz0xIDh4OGRjdD0xIGNxbT0wIGRlYWR6\n",
              "b25lPTIxLDExIGZhc3RfcHNraXA9MSBjaHJvbWFfcXBfb2Zmc2V0PS0yIHRocmVhZHM9MyBsb29r\n",
              "YWhlYWRfdGhyZWFkcz0xIHNsaWNlZF90aHJlYWRzPTAgbnI9MCBkZWNpbWF0ZT0xIGludGVybGFj\n",
              "ZWQ9MCBibHVyYXlfY29tcGF0PTAgY29uc3RyYWluZWRfaW50cmE9MCBiZnJhbWVzPTMgYl9weXJh\n",
              "bWlkPTIgYl9hZGFwdD0xIGJfYmlhcz0wIGRpcmVjdD0xIHdlaWdodGI9MSBvcGVuX2dvcD0wIHdl\n",
              "aWdodHA9MiBrZXlpbnQ9MjUwIGtleWludF9taW49MSBzY2VuZWN1dD00MCBpbnRyYV9yZWZyZXNo\n",
              "PTAgcmNfbG9va2FoZWFkPTQwIHJjPWNyZiBtYnRyZWU9MSBjcmY9MjMuMCBxY29tcD0wLjYwIHFw\n",
              "bWluPTAgcXBtYXg9NjkgcXBzdGVwPTQgaXBfcmF0aW89MS40MCBhcT0xOjEuMDAAgAAAKL9liIQA\n",
              "F//+99S3zLLtU2+2C6j3op4mX0N1JQGblsTtOoAAAAMAAAMBXKZXY0ItrtbTGAAAYFknhI9NR4AB\n",
              "xLjia+4M+ygEnCXzRXtf7p+pgNoPcb7la/A66rjd5uFD/4JB6OOeWI1nochT6Mj37+JD9vCqLUFQ\n",
              "T68vhrYEX+d7MWv9tXhyE8IhulVu4lV3iuh91sC15CEBj2mng7Adw3m3FFI6GkMV5TZCXFqGRvVR\n",
              "lg17eCKh6xa1Xv+iR8+HluWZOil8ranFz0c1GVweg1ike2Fyi0hHblWwCYNBd4gZhTOz6/KG3PJk\n",
              "7jOm5exeRMLGWDdwsV7RjSAQvPBZKfdbJ+zUUnMGAJUyeK5DcI70UqDuYH1ofA8PAViizJzZjzZ6\n",
              "XhcF2AALmt21Gk/0B9QV04lJKVyPhwNM0Y+g5dpqvXCBRjTshdzYFeMz/n2S1Fdq4cjEHq4Uypxo\n",
              "50n86cRNWeo047Jto00V00+MD1+0Y0rWxsxl6LUSA8T7dXSEmO5YfD9XyDY0fNc+og+qYgVqgJJC\n",
              "LJdwmS/P2YP5v2tieBHvSEelGRlfPyU/nXOuhxxX819MQYSYZc6bTVuiJYKX6TgOGKK1qhnbc4Sn\n",
              "62gl1mbX34xVqT7Ql5Kd3FMmVpBSl4nlBUOyFSEvLHQIWMiqzPZbL+boty00GkostGY3sBPNAans\n",
              "hr7jASHftSOQzF9dI48M9sLHyLjnuxpyBvUMIGxo5WdVPVYUOgKvp6Prb3ZzLwu9vWDqXyTqXlin\n",
              "TJXk/2zeJUBVEDLNWlliBlYkxkEx8jAmtiPEbTPv57WTPImzzAb4r7+WEQtqfSFd1HJ/dXNDyeoD\n",
              "HjLX8TW3wo2qGMN1mc5Qrdjq/rOYLHHYSQp/q/Pz4jxqMFXYYAtC7uN9AjmCXBKquqkAwOEclroc\n",
              "LNnZEfwgjx2iZrGysYwHSJ/2+N16p+VxKi0jBNgap1dTngO4r2Ecfvc3F3yNjJKzv7PNRekKMkto\n",
              "uZfveq0tanC75Zh1PENXxUw3paDMJK70kYfgqlMQwW22tBzhk3NraGwX6E9emKmndzaXDFstsBEv\n",
              "lQi1WaGJinoz2CbLWZnCcLj5nB5+RLu8WLfYHQP0cwXyG+lN1iqfAnJm7GHM+rf802QX/Nz+ab7y\n",
              "qtIf05z97u9AqH5OddKKPYZdNoRaeo3WUrct6pRbk+eXJzpytHhtZNnrb1mOplV0qRMUJjdxwP7u\n",
              "cXHxEgZ/yppwoK10XBU2piYA0HRQ19f8jHgmWN5g39rcnDTO8F0b+dBzKT+hoFvJZdG1tYuEOsfu\n",
              "xemGIoe5VbkZyJrVOxXhfTCcfVzkXRzRR+chtAsisAVdfT1vWuGZeCa6i4piGLvWva5tcneXakG+\n",
              "FLhGDuL7HmY4nw+/lsM65XGlIN+IsD9NCbT/2VdWNdAJwSEWfztYPhTZEqDE5pXYBDUQ/ZQP1TTM\n",
              "6H+/Ngrzcu4TVwUDQ+tjF9/mXChPvYi7+DJbrdmLGsIViwpZPJBjsvJ3dqw576Lesdqm9XFKAOfR\n",
              "KZFY/gqwrsZ5eG4AtcyWbDgEnbXUGgCLifgxPdb9Vw+AtTjryPf279lCHpdHl8TkaYUtp3vEYbsu\n",
              "jDmoqa8R1Ej8a9l1KXKnCf86KNQG0EbH+p0D7/LqoQz8kETcua7qfl6uExCkHGO2KxQBhu5hhBsY\n",
              "NM3MkfQflUQz3me1zSNjv2MtHEAxp11/9GdbvS7Q0fxJCQjY4H5kgsz5ySxDaVC1Q7sN9SfqNIQN\n",
              "trOOWpuCVcOQetyMa50vsWQhUjd03qGxuxO3elUYa8cQ0kKv4TNn/19gEi4PaJ8VQHseCDQMCFHe\n",
              "HTZz3xHXOqEK/8hdvJxcGCkXWTzZa+n9/H9i0O3ZTTXFF3WVERLCxP5k/UwguGlkB0ePQCFGpZM1\n",
              "MFSwu5QOIvLkJneasiHioiB1cRvl/c9r49Tu/MT5etRd1royNYjJe3s3htzuC7EdedSYtHHZVpGE\n",
              "Szac9ExThhYcLZ/qWounhrmSosAupAk+vTtO1tCyAIEwMuwe4j11aZpUAxjT1YFN1uKp9cXKFFdh\n",
              "LboFhnPyRhmaMmhka7ihZVN+PBqshCS0U2wOcBg6oTCKzUChz+F91AbGuqFT0A6Lncd1RxXg71SW\n",
              "vMF5pusOd0XQcWNs0N+IezbKQfDFWcsox2RBqFd8TF12edoQLVv31s9XwEp6R7rEewfqOkZaCdPR\n",
              "tyTfy/cceHvBK0JycUcS8scNSlyPSx1EcqpY3JcN4CmsVRDYwhXlr7z5dG3RA3D2iWnw3ZgB/RaG\n",
              "Wqk7ixOezvfLtM1yoqwiN2zHEoP0bFhneW4ABfqCTKUmlPbsCKnDu20RrktyvZp4lDhMyJbtwd4P\n",
              "0/jzpli4BWDAZEWAIi1jYRIUvQ4W78O/yS6V90ayPv+YTTUbGzEaMcNucS/3vWXhJZfs9//VDhLw\n",
              "0gN4Le3s4UhSaW2b8qtrhx40jWk0kqUiv5cg1ywBwr07fUQVpszYL6ZTW86S9asThOtNmG+kCEa6\n",
              "JmL2yWT0xEvFm1NVl5f/Mq0++1iXcWJ8TVFHwiWfT4/JTt2BXjgmLqDa+FEzpm2mgQP/+lDjhfJn\n",
              "LT9bmus4kiOMlvBTp5mNn/QLgHE2XplNcanmDlrwcGBst+RYPvNU8tjuoDQKEGlwBw6VorVy2uzL\n",
              "lKtmrxLJvW6R34Wrk+qGv9nPOWqys1pXkkqfDQ34vaq2RttMnnhwqs0z8SRf5NjGtyhUK8hupJTs\n",
              "ITfIYQI/ijxFtkAYTiVlZLPJHnNrtGxFSNfzhFB//VDoi7HnzZkSy36eDIhcAIKwcNTWhwfLBhkZ\n",
              "tZ0z4lDqjMsgAaYCpkT2bW9LioGYt3e/UtTYBIMqOdtYWNlEg8rAJrwsowgUgGj7PTZnhC8nGldO\n",
              "rvPlMw7tdw7A78Dv9s8TUep5yCLBugB8bdw94ehuszsjNOaAEWrNcSNETD9+KxQN7f2ScImvz++o\n",
              "WHGnQLySfXDQHXJcW+W8+mnH24HSxnpFvCs/d0GfXmix75r2pzF2HDO4HmGdSzwNGER4NZuubJbQ\n",
              "Y3h8WAfaHx3w6BMAN3rYgiMtikY+672UoYgJ63fEzm8KZGcJH5qOVYTa2V1JlgYqv0CiCFwybxBo\n",
              "sI3qHxYJkLd2V3wNWuVW4fjqt2NZTbQhli3WVM5j8jLDz0Z2Dzat5/kW8VIqsMR9RGkgCLUNh5Zu\n",
              "KluC3AVPDDkIazGxE4dMUfog1k6d7Cco7+i3hqmLdyw6H1C1eI5g8dBfNuycMOMJEnBAKupnu8tw\n",
              "+yeymxH2sErv5aPtPFFKSI74v/KrWSwvCR2Xzv7LKHbRhsNu7MMpfE4jstfU4nsag8g5sJySv/xZ\n",
              "/KmcJgx0Qkj1/DFK5cFi4aPDiRTZ01Rd5DC57jhSBF1iC7+dyfa+/Y2wmU1E2s475w7NHwKIcCox\n",
              "bXt59jTrsDv7FERznjqBFvBsevkJkfPG3cjugWIBYJr8RUpIQpKBW8/qP28Mt4EXpexSyaJjxqRR\n",
              "NsuujICPCTuoyeK9xEy4oKiGFbkDUcIrqn+0i9vYhsIlHwrkhodXyLueLR//qIBj4OQqa5dlvaVH\n",
              "V+hS4Yy3xUEqf/gddjvILy3wNv1JaGO84Z+ygA17UBO07Qd9heUcgtnZJzSvHbHFGTYsZGVqRd+f\n",
              "iUyMrB+rbyGq4rEZN/vEdZbu2mS/pjLNwAmowehiuvMEI8EoFrGtdvJAZILkKXrMLAURfnjwhb1Q\n",
              "m3SZsQdmCQ/ZllEKKa4sLs3Txo72GEkhRFaAbk6yl7BycQafmZc8NhYX9grcGCutCoRke0KIUS48\n",
              "F5u/EtQtMOYDNRZbLWAH2VQLgo6WDoCmLrJTEY0qjTn5fAt2ZeEkRbr4gOjMrJBO2POeXYM8pv1t\n",
              "2Es0gZEWPsAglicrz/MCqnER8Nx2E6QMeuYJAAUYfkuCX8d8Q8Uphr7SDvR7bvxv4D+Bnc/ABffQ\n",
              "yHs6rBG09ikApm7cw961Z3C3V8/0Pq/59iZH7+zNYSxeH4I+Ajtb8AtObZNhe4eLolR/ebic6zer\n",
              "d8I1rlhxxOCRRHC0eni0V94KmffgHvHkDqO2zOdrnYOwkwvegOeAgBdYT3efWC6eZRBO/fZngIuv\n",
              "yWpCKbjGo5rZuA55iyNBTBKsqUkikoh98038bjIY+GAFf/0+MskmiOIvphgXCwd+BFSNDjIUhzqM\n",
              "RsN8ZvgndCldWbrjPCozLSKH9eKTsqw/84e8rYt/PGNFgWJjTyMofy2WiKCvdU/+nlgprjsRYB/+\n",
              "Kx3xzJpYJMNP9lTIuLpn5pC70Dd/V70muCaENJurR198UOpcqTxRjLIZPh/Wx3Qhk0t3pKqWiYQN\n",
              "KRQhwFzh8wIgHovFqsy17xLFufHdSl7SetdkuV5qEcj9Lp+Je9acumIkAENObywuawyAfQugEpW+\n",
              "edtz7pKqt40VIR7Z3fXOn9aCF5ubrcIc8v52TGb93DyKw8b2Q5qCQ+1rFAb+YAd07LbKTv2teF5T\n",
              "9puqY4gna+RZJd7LTUOoworMBg1Z2agAVpADawCPuZN4Q4HXNeBNNuYy5khl4kb5/1VlQGEkc9eL\n",
              "mnDDAH5MtAel5hq9UxdcLPn56bIeCzQ3a1rb7pnGkarMu98bnCX+ltbi7JYn1H7LifyHYH0W2zYs\n",
              "sBpulvlTSgwie21YXrA101FPnRgMk7N8XofQhr7ePJMxkA5G/fqHU42qdqG8tsaU6WNfXGLGK5TX\n",
              "GJhHO2jImF1YyvdrbK2P7AWRuMMvWV9qYrcbTu/S/qyr9G4gTz+N9SbYQ271NrDv7DIAAAMDSubl\n",
              "AoNj80sIADXqIJhotPQCPDR5BXlKC6Z7c7ZIZJ2zTHCOD3yLoZG51Dvdnloiu+4tdKmXm1OF+P5Y\n",
              "tuKtEp0PnBWifV1BI7adQr5bIxB1i0KC2iN5mVK0WLOpgOaCd65wAR4rk5NOATTzcqNQ32yFnsaO\n",
              "m4f7H6s4LXxJPaZ4SlWXVCj9tCsl/bLKdR0O8wfPmgSm53zInADt+Zt5JJiNIbSfhr8O0mNO9STU\n",
              "JqaMzd8cV7351nyzmQ3QFjCVXlYL2zd6DqOIo6Zh1eTa5a954v2nfeofMXQ4KvgxDW+dAIui0R8H\n",
              "7gozi3gWgndFfl2ryrNrvVeg0TxvUedkP0XUImIBc75hFvNqDU0zoS75QAI1OSrk+WQrLulVk5Yq\n",
              "GEy+g8FgVGFIAxI+k5n9y64exhcq2K+hww+mTMA1z9uAEjT/SyyVrjCWBH5UGGo/oU8FI+gDce8g\n",
              "1FaCgpgvIeHl3w9i9JkTnZgMb7KMEIBKs8qMcacLh4RJ6OGz+285bF2aBlz5mXwFC5l2Vog9Jo8h\n",
              "8gbvAa8OKmsoXUC2kAz1PPVLiyQJZ+nIVnZdqygVW4r2Itb0gj3YesGSTIfMoenMMhvDfBBC/Vsr\n",
              "94h1m1AkshomYPX4xo/JsGCESov8Tnx9O8KfLEG2OT1J6nOCV7/bUFXovuE2b0EmSgWjDNoVkVJf\n",
              "C/aBJ9GCgrD4xhbLXRVe/xhGhm0HvnijyiQHNFLjAXayUOGP+BOsDg+wWrw6VL1DbFaP1/6jbUh1\n",
              "0WC3enSvjPE7cNHxBpf6YjYEGHUAWIq2g0nFSdpks6/2altMbCruAv4l40ZWMy19p+UBj4D2aghZ\n",
              "ZAbe3tVMrcQkywIlZ1jxMFSttjsf1+lpXt7+AXexy1h/iheSrs8exaTjeEUy4zfmEmUKVQDy9gWE\n",
              "BOrcGxXXsV5ovziPG9jCk87+RnbNAyfgv/DkLtJAp9Dbkc1e7jRAYTrwy422dasPqhgduLzIABEW\n",
              "LRwCGLwfVyb/WiXPw6sEkcutNqh8PKykBwDbrI+4euBD7s90CJh1t/wpElvnMA5ASeDQT/1jF1qJ\n",
              "oGBeKtLbBqlYrs4xNrXN8CJoBROBL2QVYFfCmnXkUucsbmgT4cm0erz5orZjk1UlkqLKt1HFkSom\n",
              "OhJux1bbBC8LOJgnTfAJfzyCCsKJKHEIXerKcEssfAuXm9GOIeTa14Cw6TSAS59wH5fbLM7XCLu4\n",
              "Mo2+wOyqk1DvEae++YgHSgLVN6tAm8JnEH13mfaUBIWaRq1P1FgHxze9egRmySVhZoDdQQklZu3z\n",
              "jmqj3O6MQlWIS4CdirY8XIsDn53zcH19Eb8TriCQp76V/V/znXDq/K+P5yAXZj9r7bZZlroXG/LL\n",
              "sXDrUwnxC9dTt3rT9Xr1DS2rblgBsJVlA9/UInOJhS2g0tIiTk7g6v5GNiitXiXaZ+W+tjLhYE0D\n",
              "QDbvXHp9dvuhLmaPcW+piWE9qtJxmm1oC4JzINbKs24L7idJFu6XnTIEjFawcX7CHgzU+3lPfE2x\n",
              "+Aqi/zwYj3Q57wbkUOcmJzhiuTZZipPhj67XBh1d/WVLKhExgjxQx7X3h985jwI4p8NwT7oclPr1\n",
              "D67JrHa6kMCDR3hOFmIAv8zNXvo8dUPxOOQamlzTC5Oh05jsnl18MEu1tv3xRqaLTmMn8GL5ZuFG\n",
              "7D2jiq1uOD58W0ZdtBfJEf/4QNR2CaS0JwkzjZMdejU6cVi3B0WYF5/WbgBP+3gymxwThIAmi4Cj\n",
              "ny4UEpc4JR2kn2SuGncrrRCPC7G39PYV02+39K3E5z+K2hl/tZdAhd26v1Lxm0v+FNRYqPSOMErH\n",
              "yopTjgpFpaFzYBMRA3G4ZXAnk/Twuo+V07n1LwsRhtOxpbB7vE4mU50XP/pd4foea7+blvYW755g\n",
              "I5VaSM3OP6ynuJcbydn0Lk+pXulnLNQ57viB3kW0vGKBCNZz9iik9WYBC3RkDi1aQyTnNl4nZFW0\n",
              "sZ0/fqfEX8zQtm++NWW8k095dj3csACrZVv136YB3NKRKOyrXgFuzz30kOUqVMRGmRbdOW1U5zeq\n",
              "QfFtD6wC1kHQ51DCfFanhx5o49Kp1mYABbFRjHmp9MRbdV60ifF9cLdACLf/xNaXQapxVIgSAvww\n",
              "m8UXO3I4zVpPKZPQXfrQJKFa5q5m5wCJySe8VnC5i1ltNmeN/i49LjhXryUAnKdIgOyuKkPL9xVJ\n",
              "BcN1iAh+JmQ/PBAcmAtf6MWrk6ClCfzxQMMj3o+gMm8i4iKbdCU4v/+/0SVDp8hXtef1k7eYW/yZ\n",
              "mAVKHLc0BqjiGUUiW6bL8MTsZN8Xo2gcbN167FAJ9QM/FKANb1sNwEteR4WYBEK1CYob48hnrZJA\n",
              "GJSoG9l1Dy8ISLuxnBSgDOiJQSVA3vNOUtB0FrjtFLvbAsJ5lkF6b6CUAYFfiMnCajupDN72rcoa\n",
              "cK1YB5oX0IbjnzaA2fvMaDkFLAa+B77nqeZP0w/WruQcvFQJHo6IxAKut/7T8waN7JMsBx6gJj5H\n",
              "iY4BMQeRRljWPonhVbnQXn8ahouN3DlqRDjVc5vMWkVTmR5BxtzGzl791witcwZyAIKRpBiQod5u\n",
              "139N8QNcGU25nhACX3ci/lk8y4pLiBntmoSEr3ikDW+5TP12qInKAqe+6OkgfaYetDWMV9yaDKfH\n",
              "8xPf0Jg3L5CxX47xxlMYSbZOCogahLpIbbW+vLWjgpmG81Hd/WLutdqmR0BwY5d/LwqZktSw5983\n",
              "9lobD3b7HdeirF+GkDI45N7pPLMZfW7C7dDBdXH/RwakpmbqrxaEu4WuSqXNGuaYaFGoYMk7Bxdu\n",
              "zjM3XF3lDNtcBArIvIYuCG43Jz+gIo7Ht+LfdvFvgIhv/X+Y9n7msvUOPOQl+L/JaaxrgTPmKXzr\n",
              "oFuYVa8yiEg1nETok4KBPmGuSMFgduO0GD/ssw553lJtXuL0Sg22M/TMENJtAPJvH6sjzf/mJbN1\n",
              "Yo1lsTiz6u47yI88ziKzcrLQbHAfJoUd/5P/Gt0X8QZR5OUGivR8yaJYr4zVWzKZXxYbzSqnBmOM\n",
              "9wnoGFWRqr1MZH8jQxRv5X3qYPt7XB1YkQhI4dvDbProTG3SjHDcwpgG0lkUPxP3M+0FABy1ScCA\n",
              "qcjlZrzilASvxuZEXk+YKNOV0aUBUCZMY3FCGrC0F4KPGuzV9tq/////nEY7sr4T8IkCbue0zVbk\n",
              "jDWKi78QPL2WCrO+2NZFyrNNcMdjtcV+8N/KSavUOGqOyGT6+GTVQ+8JG0tyEajVF2m+hLSLfh76\n",
              "w0dgg4RqLB7Ats1wB5PazQYcQLhUZmYZKwoqPaBHlayJnKKOy5LqrhCE2XNryOWV9Y/Ku6sn/ukJ\n",
              "q4jItFMoHsH2pWjZKYvHQHcw5yDnIMqk/BmaSg2jJRF7a7N0RGtSOccFalRW01rb76SqGvbO/GvK\n",
              "oKc5f1QCSpHaxVdoKaPHQF1ZBRE6UMPakML795xYSqRLc40P0J+7evAtVQ9dMRGLhZd57XCEqeZ2\n",
              "c8dNdL7iJfyhpby/rxVwajsdX1H1gSyXbLJq5kQWp9BZ8XjFZarG+faiRPOtJEaf4X2rjFjzMjjS\n",
              "OiDFOCSyzvpF0v1SYCr7ILMU4KgTiy0PV86zrCw5NUI8UV2Loyu+nhQ3C2PdbeivRy/L2Pxwfu+t\n",
              "B2XC6zUga/JcCh2SiaZ8hmbPJztIDXF/dCZsi0hzgjgQ3D0tJv08u9UxxNiLZEw5qhu8riJkmzH0\n",
              "+cJZsVW+0dkSG1Iet5sen9ELalHOnZKiUnydwEpLpCx9h7VJ9jeLk8LSN+t6bDfiFMmc7/q8DuHi\n",
              "tIwVNbD9E8J0glMPJ4lT5WAo3K+BowKOCX3XtZk87swmySk9SyQ1EaJ5lxHE8TbMjGolmWUxWO+i\n",
              "WnPXpcGCbP7OMeu80DGSuGWZSADO4/jNin/YeoF0aAcycWntZke6tVkzlQLRni8TdsX9CR3h/uVk\n",
              "hQ9MKDmbNgYMQMJsWw5I/+BpYrUu7a/ReYZgYVY7Embsi8vHBB/9U8MiH+jD8v23Wbwr8cqa9z4u\n",
              "F0YQNCIceYjZuOJuzx2Fm7XlQ4PSOzTlatrI2woA/k2Nf1Lh8pO8wy+YNk12LzM+FFV5UZRGpvbu\n",
              "VsoejbbdrJQqZQjoAh3SmlLbnzgZC5MoZBMKYDzvRSkO+vBNy0E3Jzoej0Wvah3MqGehrR+EFA+6\n",
              "SIeGO9ETXa1BcWes2NxFBOvXW03uWH5AhIiJKf1y/TcqTb7+2hEAOKPgCzxxJZ89lSowRZvm0gdH\n",
              "sCVPSyFheuq/nnn/ABGB272dgL0xX+pFH4bX2cP8ZWpiq1J4LrJ+ECdDyFXwAgYSA/1qvliD7TXc\n",
              "0+Ee74lztwloo99PShH7FiEZ7lvuCW7jS+ba+AtPmdNCjNRaSdG2+I9Tm5tdA7rY5pBViv0QdlKs\n",
              "fEa5rfc+vpHWpF/l+wDF0GOObKPsPjHCfwqpO6lBtqfEWMvclk4EvVVNnph1/eyxjVK7U7u0y2e1\n",
              "PilBvlfwWGyKiXRt09nkmH1tGgW9KMBRwgIr3H0xikEiFdnRbDEu45uGHrXGU1PpG/GTBtC4UnuH\n",
              "Zdq9pFQQnl2EQyfUstM7iLA1NOhWSGJtThgWllDq/2iUFpjvXQsH4IFdugEFooP0zRut7JCF0krE\n",
              "NQXtY6/GWqk+A/FvSTcvpTwMyVM75PpmrXuTGIimb51nx31V9TmALppBlkMGefcAmZXBdhGTy4Rb\n",
              "a+EsO310/PmvzxxSo9Apv6WTJMelUsDfhxOcdASER3Cg5LE6z9B1wPCFCJtoNWnC9dpazVAJMuS+\n",
              "rn1ao4+6t2URpOwMpgycRmc3o6Pua0RPSdPeGExRbAKGFKmAN9eahg+RwIp2noKspxd/I8MczhTs\n",
              "9ycnWh19ROtEGKTfNmJ/C38rneiifJVJqT94PHd2ti/kRY19uzC7HRQYmp6II081pnSnwHZPyx9y\n",
              "CWO8seJn/wAOVgrMGqFsgS1D1bHZP1unPPjm6Sm+0w2tzpqh3+v+qWsuGufZSuAREpN+KurXvg16\n",
              "02/Dc/IIcXXcoO9NOHIfNM0LEs507RCfCp/z48SATgIv6rKveg62WP+WR5LIFQOm3mSV3gPy35dA\n",
              "MM+o1446yDln/dtfvQ92fQGDx+46jymUKry4XLKmVLuAruEiF0roxGgs8jAubqbjBSkMjBUS7J/U\n",
              "f90umGo4lM8zq/ilNb7J13RPQjM6/2Otw2T4IW1f+htnHvVPi9+LyYKm/rLndwQrFVYkBX9Zs33d\n",
              "KYQlcl+x0q8uj/vV3oX397RNr/UaIS8b75dvWawMcK4TuU7GvDco/ebGO52gy9EpdcJSjp8+z5TF\n",
              "Yk7ckSS3gwmYtPuhchkbY8WKKbU6GJ9JldgvWNUC2M9Q2wK7IlcIAm3vo/3Aps577BiFztjIA7WO\n",
              "JSJc4UM9CgJGuhGkZJLq5mc+ckwvBdDe3bj8kbumTugCwjpRjQFVe8kmdqQ7UJtWIJnjsKKoiRH3\n",
              "Fss3YK2H/weLJD0ZSXBfitEonKXQD0F2It/QKXC5nZNDhYMmmr/cQtcrA9HcyU36EkN1TjyeFUrf\n",
              "WH8rmcBDGrOBFzTgP4pP+6E42mrwWs/zyUnIEoSiUPRLowaxxJWAiueMGhGm6EtQ/vnsMRzPGMMv\n",
              "bSJblYiDWuZxdY8o4KV9NHMW6EM3rbLCKpNOZ49bv/YJkxGHIPPwTY6F/07jBglNQqI2+lq71XST\n",
              "KrRhEPqL0SQdDt2cm55kkzUoATlBglsww1eqi+h4NlliWPvewvu0Remen2fvLXA7nZIgAnWEg2hP\n",
              "2M3VXDn63u80jtlNTm2g+NGavYbioU/npVHckhomIqc4ZssoaS/XUD5dszWlPUVw6l0YcFEXF3+8\n",
              "h0BZxZ+OM197Y+0Szh0MJxLfUqfXGvqiIyLboarTosVr2bHE6LdbGg5Z9rrwhBOOvx6JpVCqV+vZ\n",
              "4RyM+o/1m1sr5i8oP4CwSs6ww17lmltzZZOtBEwVE4virBo8AO8Kps+E0vV3DDv3dC91rw4ifZaG\n",
              "nC+c0q8tBULiVKIJ49ensz3pFCwqSK7ZiT+AtRTqcao0JgQxrIB+U5QPhN27ejeFMUTzIfMC3b9+\n",
              "f0z0TswIhYwSQiHTCBJVAagLfZMQaBKve4smykXXI3BwACaJ3asnV3ULUBNJTwDHdp/H2a74QRcb\n",
              "uTO2CoLt1d5sRdtwxfzWEBY7m+rWUAnhODhR7FlDGOLDEzvZvWG8JGEsrqDXinwgIRxIXmNP3LUp\n",
              "snSPKmTK9zutNXVy3Bg6B17x6cxZD4CnA11M4YSUZfa+DEbMyq9FDDPNVUavc/m0XdYHETbP3F1v\n",
              "L46/0vBOx+jrsXY/5E6SY+n5odKGainMdj1KWnND5M7CQVJlJjHohDwikk8zPkm9Qryp9SZ2O/WE\n",
              "GevKQ6+3HM+zeCMyRll1eoLCj4Fc71PajGbLSEKdl8V8AKurtjaMimtgHA4VI0VA+afCIP3srZUT\n",
              "xFWzLO3D3j9tCHqf+gtc/B7xlkVNI5owUNbEIR2z7CWMgyRurwO5Ik5ZtdKEuzZaL5ZXXG6gwZhY\n",
              "ywiS7b3f7vlSvuHy1x92kkO+u5hT7lrUO2PpxXZlU9g3FFKVXKdqM+3PSSkETAL/ZtzGUTmq9Z6m\n",
              "OXacxl/vCjtgXt6UcU7CLdCfk/VRIy9Ibh+8HeTpyJDtQ6E1wuD17qltX6gIMP5PNzOxWhsfO215\n",
              "xbjoIjouB9HX4GhamRvdBkFKniOwSHlDe3EzUgInwZgXW5TQ95kLNZK+e4IHDiKM6bPTkWKcuseM\n",
              "JT65ExNwkDzCS+s8kA6B9WnuSRislOXfO9IF9dVaDlJaZeY6dXOuoSYmLlESlFo6cC1GUv2HoNWC\n",
              "4feQwFQuZ2CZnEcy9BeOliDXHG1tV7LSmt2e9k8oH3ChAzW4TxlUfPgxoDr/xOPY+PIMnnpYMlt1\n",
              "fuFjjZnSdYFZUEXQeZ+gWopkjoxJZU2EbZXKbv2HVEJuJXoHvuCihyW3xI99vO7iMDNcnkJ5n79z\n",
              "oqvHwJ5eUZVWoHttpakgiu8Jl68PNFzwD3RG6GAMVhHz1MMa8xkyP8gxk3XyW3Mwpnb4BttLXmCG\n",
              "bIjpoKRYQF6SJ1f0pug5EQy7OrIawX7iUqePoQB8v0ByDQWGDREwVPZSGfsPGebjKNkh8ew2WQIW\n",
              "f/bgdB63eFPxP1U2fIQnr0uHMd3VJtK9YB+zo6NBr5ASuMEuRuTPqJK87x8JoRqZRbSbtbbyk1L8\n",
              "v7KcoGECh0CeT2rR28M0YW+jozKYqi+fU65opCvkAe0+HP2y+bS9APiFgJYOsuoFokzXrM54qnVi\n",
              "a55jvVJZyy+4/44gyDuhcMGbHOr5ufCteatEkG69uZkvdA9mExg+pu2nhSRsmyXy9Fil2bitkgzX\n",
              "l6mWahI5c636wkxSUhLqy5Vi3u8OhYjNuVF91bkCT6mi+rvXssPtN8gd0cguiZ/fumoFnj0nzo6p\n",
              "UJLiKDLXqBLuBxZh+Ycty6PKHo0qAshLFehhuWdlUxU2QlHmqBkCiqQ0wdXp9VAVtD/NHeu024OV\n",
              "eb2Pc4omMgXeODxzo8QiXopT0Qr1Sg+ruc3vvTnY8nqQZjYwaCri7OxYmsjraeQABVcK2+Da9BjF\n",
              "DcwmvRSsiNcKrAIKsrQMjAg9MNELjR+RDKhwCmpGf5/BnifLVoz4K8dwpeQ6BjG204w4Yiid8B7R\n",
              "7BZGq71XVCnlw1Jdd890DBhpdXiHFikyRIofMLcstXHBwQOxpq8Cj4zp0YB3JLGXIZAkxPz1pQFA\n",
              "bXzyrrmK5UxizE6wgqRuS44nGKMyAD7Oftq9DMd1ylIhS9u4/zNXlwgBFUft3yDaf9sHVQK2OXpO\n",
              "pxrtrEV//TtpzALkhI14FeMEyyYcNIZroBl+0IQNJUPcp9T8wGoAmeOpEySOjsIEtpC0H7KcFIOy\n",
              "j/5ymg0DzP9eK4dckKgWFPAx7WqxmS4qB+WYcBgHpQ2nX0V1FAaYmzqwhI9exEVuvKYevILw8Ua7\n",
              "DEG9ReyLKYpWZWCha903b6+/XUQi2EuBNP3CCvgeBSReRy6QZaKRelwEahbHOr1QMU9RfRRInq7O\n",
              "j2girEqMU+OxbWtkIGhC2hEoLplOck2LkPuXtstcAklwv5SuwD65AzJ4FwW0qLgnukb6NPzEq1Ww\n",
              "KRd96sEgmtiUsFAQmAncrF1A5Ud6K5PIBadUwaULICtUvovcQF/DeIAZChQqyAEVhHkzouMuINS/\n",
              "gSP+l0F0IkTpFVV5PnCLbxh1abV5vldBodV62/Ojj/Up15C4WVHJvgL3LmYUMBzYrr+JE2ZWvb3i\n",
              "sjApt41ksp9tQtxW5Jo0LIGAngUXBbCrTpXzKeCjdfzBChnleFEsUn2lE9kzuOnNUd26TKL34kUm\n",
              "ReJSyr2Gt14hRXUFMfKaEhW8FFkLbhqjVlwUspOrhXkeBV0I4ROCBDz3jcz514iYQCriBh8R0zxF\n",
              "fVOR5uvzQHeRsAMFbmKE5Vy2WRQXliLnnYYjGCsGfE8Y6kBaVSYb5NziG+KmTRDTxtvN2YDYH1Fv\n",
              "l93gEsk5YV7UlqktjN/zUl4GPK2z43yVuOnzr7nR4N/dbyvWE5hXnSqanYGYyjQASDjEQGoyEuaw\n",
              "wYhjdbIIvakzwx790ftZwFk2oteM69SNmkFmBBzGqa9ylwuIYx9bGngaMfF5uWDl6YInLuTz7jrl\n",
              "Zqxgz3YS7JJ6fGQqcAagl8E77yGm8hCPxYUuQoa2Uqw+e1tPkwRVTNLlULyshAAvDoH2hABhIRQw\n",
              "8YEJ6+xkwBWuwXrT7ysNAHgtDezd0K2xakL5Fs7f0r5CLpADauvzUVIyQhjdQEbL7w7IQ1afNt+F\n",
              "HgoHlKKvs/qKPVF912KAF0dUKNTUiU9l8ls+aFaL0zBmIvqgSAJnUIIXRBEpZijBUmNlVcG4em0I\n",
              "/KAvDRRzCpAup0w0su2c1H0DOShfwH/p1Z24hdqigNYubDWKj7QACAyDtFv/MeyqXnLX8fNinV91\n",
              "t5ch34RItS4Lz8/bL875e1vIaH0V9SyBdkK428M4xrn/JDkCfkT04CqWDqJF381HT2wIUassdvHZ\n",
              "No7XA3vOgT/UIbcjMjjelBAlRTynsSRewaUZZpOUsbS9BW7B7CzXDDL+HgE8CN4JLioIEFEAAAIT\n",
              "QZohbEF//tqmWALw7bUgBbPlZDOYg4/tD91pJ8//45IxOLCKFfI6p7x+q1YzcUJ11jCZnb+Qomlm\n",
              "c27evq8NTeuwxkDsKG9JwVQwFtG16kkOxi32ZmQ7svLXRoooALJXrZenNU0cNrF9Qr/WSSfzQPuY\n",
              "13i9QU9tuOWRkkIf4yhSO+Fbc7I0KVixXA/U5cmgiXEFKw75Biwlz2oxakYbSJOILPw+yOveyrwK\n",
              "vSKEDRg+ErmKnRz2BoSy0JDTqYtKwh/aR1SrAH+krgI5ZFadpvaW5N/kPyBvwJ1hOaMb3xSCccI/\n",
              "9kStLMUbqKAiPxLYRkqX5rk83jJTV16YyQp4QIRtpTofJB/qPvgOffM9B7tUS1pgQH4fIy6akdfX\n",
              "a7Rt5Fa0bAxhvrjt+BYKolQA59du5zmuAXRvaBPp3zXy1TkbJltyVtd2cYim32APJR2pjdWmKrGk\n",
              "4EvW/dL1e7TUng6Gptk1e9hXWKf4FYTbR8NMOUC0/gzdkn5bjLQ3ViiTdFKkxs5w46Y4i4cUcJdt\n",
              "mEDn1KPC0kF/Qtpsf52kGVJTGEYAPI5YhUNaF6c9ApSolrG2TrKQzO3NBbrHyCCh6Fz4eT1aIW8N\n",
              "D4qokNMXLUNsKI8Ia4vLLdVyhTEOhjx6OtLhdSVob3RNcG+syOOUhLpKXxvDcL9v7iBdzFeZ8QFP\n",
              "Az6zh78W1tt0w1h9aFt8I10MAAAKE0GaRDwhkymEFf/+1qVQAMBxD5AAbSyACgjG1ITXCZ89eJQA\n",
              "IyXsN5tIghUOYek1Sv/dg0RQKlsLBlpYty22cl/8hsQOH6Pnl1S/o/mz4B2r7amTrzX/qOq8uQYE\n",
              "/0LEK3LdaRGlKSinHgxKPC0uQvMOwnRpwtgnfS887DPLZo137BJyDLFSvM3SvtQUWW8TnZWkH3dt\n",
              "HNvqroFjbJMCH4kyUrFtiiwnhqt/Nx9rsU4XSZag3RZ7qUZXuvJYZ3vJlMvU4XM+1RHIYHbmrHfT\n",
              "lEqhpmJHG3pMcJdyUav03AsrWek+0XZtsovyqmeXetNsLoLgYeyTd9v2UmTgnXdg0gGNk1jsJJDv\n",
              "k5+L001FIF2UUJlZn5XvxZvdUUlZue9KD+Gk6c30ynjKrXiDel6LicmuGzjo2O2R3uUr4If1St0M\n",
              "LvoJ31o0YiF8Pv8FTGbw3DHJhD8/HFkdT+ZWnPYO1jLyKYjTvYwmO+LPRl6eszwyfpn7lAmDiHNL\n",
              "VyBDOeNeSIz8BH7hhgLjZeVQALsZTc3IZEWFp+9SmObDtEZwsDP1VK+16IJTdgLXCU500MAJIA0+\n",
              "ZsK9AhZddZUOwMu5DrZMqdyfqh7leVLFNlV+0ltrjTdPdRbT8TxZGadEJ+o4qKvfrLbymGZmc4h/\n",
              "7KnBPjx3rHltKBySPT05Hx4e9jiyKTN+aCBQFtdIKDq8boKuMYosDsgy1D9/wmdrCs0UKroZe3PL\n",
              "rICHhf8yZNDgrOr0WHFW2AAiKKWUgiTiIxlNXOTSnJs5Si35bqb9Ceqkn3k36EEm/R5y1aUKf1h1\n",
              "/8OKPhjTOmTKqb84XSQEnfArwmWRC9gTR30xvgEYPrbhnlfMJp1YRe6c/kSU7xCPLQ1jRJHobetM\n",
              "N1Kv5obBs4eXIR9Utt/QdZ/mnr5tupI0IFsH3ZP462NB/ONK1/HG8tKoi4XTWzYOZfXTgZRdQewK\n",
              "k/X4O3AfJQ5fU1N0UlSTdhPq5EV2fcWFj9kOjc5/qFDsO5vwU3cojsTGZrZ3dYR8wSrPOPMTD2YC\n",
              "0HU5K8EMbNbVwuGqigSEp8I5Vnj40tK3SKOSIlI7+fQqxi7nYU47KXICpvelfPsZFdzdGAgZG3Ob\n",
              "EoAjdpiOLP1AviLSba0o1JRXTF147vxRwqbrVeMI2/pwf9pP0+kv5a7I5ddMLWG9Mv42hJJJkxbC\n",
              "CsDnOxxW1WbV1PMfXAE0NhOiu8WOBrilXJQ29JBR9r4eZGnPdYonDuoFfG6tqWVGSMpylWqytDUY\n",
              "Q6lLJ85TSMdl/gDCvv9rnqwukMA0Xa/KsrtYi6MdHGQGeRcMH6DZxG4ZtcObOMLDl77fSruCzxNZ\n",
              "w+JX+NW12LydAJfW24U9lDQV1pAtDYyxj1jqTxOzS/lHRY3IdxD22orTUEmQ4XpTojc/sKYPXITc\n",
              "tKQjGr7sk+QY1GjhaoW7hnyDvWzLbl/WObiBsnzExqLuzjI6YUe2c3b+FAjrX3vFZcbr+gjdzLAD\n",
              "oTT4G0K6bsopcfXnjZQWPuH16vVSFN1mg2J1w2pzN6oejmbYVqNPkmvXRj2gNdIj3diUkxd91Fc1\n",
              "I2eqiiaZt4UMKg6R2WIq6A5T0cFIgFKhsuxsfs4z4lvul4PHb8BDo6C+pivH/cptuqKIQ7cpIkdH\n",
              "sfxJYS7O46x3ONHhI5Ee9C4qEU9UUhIwhy5p6mk0WVffyVwHBphyXtTi5nsQaH33Rkf8zXDBPGy2\n",
              "CsVJffD8XEOJcA2DwxtEXqfT1tl+diYhrP/vZw8q1an6Dxc43xPb3z3Igjc5fEA+TxTPkqHcm2nq\n",
              "7rfxFuZOmmzPDQFU+ksnie5jQ9RZF+/gOG+0ESJM2A3Y3AXNnw6YVFmkmyxma41eBMGW5DlqZR6f\n",
              "FiCPTkKEZhMXg9bFXoo6+r+GBxPTGhs490G/OmLZJVNzTeJGI2Yw576iT+DIdh1vWpvdWyUkAQHh\n",
              "VUxFodgsbFuB8vfc6kKfkh1WZxwWKl5q2yaZiQTu7ZpvbheOEfZ1YUOhQKTmzK19OQwpvmra+omW\n",
              "0RJWU0dE1Pjr3d2KY5r/Avqii2zwV6vebo4FYogEf99G1y3Dozi+K/7oqhfqwexihXstLWLhBRJN\n",
              "v2zeMABLiNON2hUTHCfqAUGJW5IqrbujeyWkz++GMktfCyiYyiMTD1oGfvPzHuBD91jtJeIawvQu\n",
              "/Ji4STDnPi097e/Ly3Cj0SfsYUv54bK53eyf2ZBZvuze4uwfTYxqoKqMstn/dp/FTAV1rOYjvl0w\n",
              "Rh2OiT3TE7RkIJx/nUVbLKkJmbCOrkpOe2kJGdp/hkzDZ9YmXJjDYYxJrtg6S/GiTD1R0ZA0aYbE\n",
              "0wYTueyHzpq1OUzivGYvliqA+tokqp+0if6oQpxMtELHueEQ0s1ZY+n/2wkWOfMwpqS8LHG8qoXq\n",
              "BpPGAchzXMm6hNOfQ2tzYstsQT/KuQ744hFRUfOutT74o5sdijVHVZuBRKonShVqE27+5o24a51B\n",
              "/QAOxGSsazyJxJmFB8uCT5e23WRH8rurVbe/0G2QUmMifcSaMMVjj5Vq8h/p44uU+s0PomTM3x/X\n",
              "4biMp6EwxWIZwrUkV98DG7CDg/rPPUmwCuBpX8b3AQ7d9RSTXUvMUEJDzznoZAswC6XwkiWoDPZj\n",
              "m2hSh/Bwc5wG6Y4+w8kE8OTHVNZ3couwJUpX4sqXReeiYywRcku9U0QB8iOGf3I4P4KxjuBfKIAT\n",
              "kgTlScXGvzYWz15JGiojpEE9vgBOLAtKuZiEiH0gq9H+hm50HGFQJ+6nVq+zS0kHiM/tOevAIgcA\n",
              "DYqoQ+HVPWvelzsg4Gj6TC5x1FDEfUxD7p7GGX6DzlT7wKs9F73v51LxwJubvTIG8rVY5H3BLwQ3\n",
              "Rm9TTf3Valgfk9pF1zkLofJ79aij+WsJCCh44igDjgL93RIS4O/GSkDECDlUNcbf3DH3wglA/JJp\n",
              "4wy4pYhf2z3jCvUE8ydemNEWS3Y1MMWzKSrjmXOzDCYTlAcSHKmjPW9+DQMIltB8oMdUYz+CE3Xb\n",
              "j5Usuh7GcxrEeIo5HeNUAAdJH3SprzX/7Lq6RUVBYaEXDB/M6dYd08uUBZBDvPsTQors+5cVcPcv\n",
              "4Wz+3XcSLiWq9zp/e8p0+QV3/59SWYcfwMyywzTRqUkbkok1jtTYtSvCtI5Hjt1WwJKUaQORCUwz\n",
              "UY9uJPEykSj9AgMLhlmBFcyS8qk7v15Z/jHunGHVV6PWhcd238i8IT92HBsuJTf1+qP7cDJHfzsc\n",
              "ghiB0Lx4vXslkPOEihEyE82HkJl6jippCNig5Z9KXz8lFKT5F8gQxFR30p+2l8vxb2b4TvYRaGwU\n",
              "BnKlELtWj+YRbD6KwHMbiPaUkmhfH+cOzTEZxSIcj0pCbCe37qRlLuXJXNvChecEsv2gCE3+cKsZ\n",
              "pZnLLD8UE8nwHothRhDQTeses6D/1RrHi21vhWudGtPyIpdtAAAAdEGeYmpTwV8AAH6tkBYdih7Z\n",
              "6oSBMaoDi3w/p3epei+gNcprO7DwiMTAZrQAFuav81DUrxn9j3niEn0etAvFdvZM2MGESx39t3sz\n",
              "L0HBgTMoq38wergSzaz85/PjbpH41X0ASolCFvqjm4j3gbBERPzje2LAAAAAcwGeg2pBXwAAfq2Q\n",
              "Fh2KHtnqhIEmHHZd9iZXkfkAii3HakT6fgu42UGe3hwFPE5GjxC2oSbnzX7UVG0Sp5eFt9nf/z4o\n",
              "oAE61hnyLzI0yqokvLqsg59DVVp8z/sm4tsJC3S8MbmzW1XrItTzBz9Cn6jIBJ0AAANcbW9vdgAA\n",
              "AGxtdmhkAAAAAAAAAAAAAAAAAAAD6AAAE4gAAQAAAQAAAAAAAAAAAAAAAAEAAAAAAAAAAAAAAAAA\n",
              "AAABAAAAAAAAAAAAAAAAAABAAAAAAAAAAAAAAAAAAAAAAAAAAAAAAAAAAAAAAAAAAgAAAoZ0cmFr\n",
              "AAAAXHRraGQAAAADAAAAAAAAAAAAAAABAAAAAAAAE4gAAAAAAAAAAAAAAAAAAAAAAAEAAAAAAAAA\n",
              "AAAAAAAAAAABAAAAAAAAAAAAAAAAAABAAAAAAfQAAAH0AAAAAAAkZWR0cwAAABxlbHN0AAAAAAAA\n",
              "AAEAABOIAACAAAABAAAAAAH+bWRpYQAAACBtZGhkAAAAAAAAAAAAAAAAAABAAAABQABVxAAAAAAA\n",
              "LWhkbHIAAAAAAAAAAHZpZGUAAAAAAAAAAAAAAABWaWRlb0hhbmRsZXIAAAABqW1pbmYAAAAUdm1o\n",
              "ZAAAAAEAAAAAAAAAAAAAACRkaW5mAAAAHGRyZWYAAAAAAAAAAQAAAAx1cmwgAAAAAQAAAWlzdGJs\n",
              "AAAAtXN0c2QAAAAAAAAAAQAAAKVhdmMxAAAAAAAAAAEAAAAAAAAAAAAAAAAAAAAAAfQB9ABIAAAA\n",
              "SAAAAAAAAAABAAAAAAAAAAAAAAAAAAAAAAAAAAAAAAAAAAAAAAAAAAAAGP//AAAAM2F2Y0MBZAAW\n",
              "/+EAGmdkABas2UCAEHnnhAAAAwAEAAADAAg8WLZYAQAGaOvjyyLAAAAAHHV1aWRraEDyXyRPxbo5\n",
              "pRvPAyPzAAAAAAAAABhzdHRzAAAAAAAAAAEAAAAFAABAAAAAABRzdHNzAAAAAAAAAAEAAAABAAAA\n",
              "KGN0dHMAAAAAAAAAAwAAAAIAAIAAAAAAAQABAAAAAAACAABAAAAAABxzdHNjAAAAAAAAAAEAAAAB\n",
              "AAAABQAAAAEAAAAoc3RzegAAAAAAAAAAAAAABQAAK3QAAAIXAAAKFwAAAHgAAAB3AAAAFHN0Y28A\n",
              "AAAAAAAAAQAAACwAAABidWR0YQAAAFptZXRhAAAAAAAAACFoZGxyAAAAAAAAAABtZGlyYXBwbAAA\n",
              "AAAAAAAAAAAAAC1pbHN0AAAAJal0b28AAAAdZGF0YQAAAAEAAAAATGF2ZjU3LjgzLjEwMA==\n",
              "\">\n",
              "  Your browser does not support the video tag.\n",
              "</video>"
            ],
            "text/plain": [
              "<IPython.core.display.HTML object>"
            ]
          },
          "metadata": {
            "tags": []
          }
        }
      ]
    },
    {
      "cell_type": "markdown",
      "metadata": {
        "id": "iwQTrVCIRhsa"
      },
      "source": [
        "# You know R, matlab, matplotlib, even seaborn, but you haven't even looked-up good visualization practices? See how good your figure can get. "
      ]
    },
    {
      "cell_type": "code",
      "metadata": {
        "trusted": true,
        "colab": {
          "base_uri": "https://localhost:8080/",
          "height": 506
        },
        "id": "ARrA9W-5Rhsb",
        "outputId": "cadfd33c-25d8-4685-93ac-bc26116c0910"
      },
      "source": [
        "\n",
        "fig, ax = plt.subplots(1,1, figsize=(5,5), dpi=100)\n",
        "\n",
        "max_hours = 24\n",
        "max_fig_grade = 10\n",
        "fig_grades = [1,1,1,1,1,2,2,2,2,2,2,2,3,3,3,3,3,3,3,3,2,2,2,2]\n",
        "\n",
        "ax.plot([x for x in range(1,max_hours+1)], fig_grades, '*', \n",
        "        color=color_green, label='Figure goodness grade')\n",
        "\n",
        "ax.axhline(y=10, color=color_orange)\n",
        "ax.set_title('Figure grade without learning\\n good vizualization practices')\n",
        "\n",
        "ax.spines['top'].set_visible(False)\n",
        "ax.spines['right'].set_visible(False)\n",
        "ax.set_xlabel('Time spent making figure (hrs)', fontsize=14)\n",
        "ax.set_ylabel('Figure grade', fontsize=14)\n",
        "\n",
        "plt.xticks([2,8,13,24], [str(2) + ' hrs\\n ' + 'Trying\\n hard' , str(8) + ' hrs\\n ' + 'Small\\n progress', str(13) + ' hrs\\n ' +  'Maybe', str(24) + ' hrs\\n ' +  'Desperate'])\n",
        "ax.set_xlim(0,25)\n",
        "ax.set_ylim(0,11)\n",
        "\n",
        "lgd = ax.legend(loc=9, bbox_to_anchor=(0.5,1.0), prop={'size':12})\n",
        "ax.legend(loc='center right', prop={'size':12})\n",
        "fig.tight_layout()\n",
        "plt.show()\n"
      ],
      "execution_count": 4,
      "outputs": [
        {
          "output_type": "display_data",
          "data": {
            "image/png": "[encoded data removed]",
            "text/plain": [
              "<Figure size 500x500 with 1 Axes>"
            ]
          },
          "metadata": {
            "tags": [],
            "needs_background": "light"
          }
        }
      ]
    },
    {
      "cell_type": "markdown",
      "metadata": {
        "id": "u3o5mANdRhsb"
      },
      "source": [
        "# See how good your figure can get, after learning some good vizualization practices!"
      ]
    },
    {
      "cell_type": "code",
      "metadata": {
        "trusted": true,
        "colab": {
          "base_uri": "https://localhost:8080/",
          "height": 506
        },
        "id": "qY4NV4ZwRhsb",
        "outputId": "240cd9da-6ae9-476b-9fad-4a8d9a1cb4ad"
      },
      "source": [
        "fig, ax = plt.subplots(1,1, figsize=(5,5), dpi=100)\n",
        "\n",
        "max_hours = 24\n",
        "hours_array = [x for x in range(max_hours)]\n",
        "max_fig_grade = 10\n",
        "fig_grades = [1, 7, 8, 8.5, 9, 9.1, 9.2, 9.3, 9.5, 9.6, 9.7, 9.8, 9.85, 9.88, 9.89, 9.9, 9.91,9.92, 9.93, 9.94, 9.945, 9.95, 9.955, 9.96]\n",
        "\n",
        "ax.plot([x for x in range(max_hours)], fig_grades, '*', color=color_purple, label='Figure goodness grade')\n",
        "ax.axhline(y=10, color=color_orange)\n",
        "\n",
        "\n",
        "ax.legend(loc='lower right', prop={'size':12})\n",
        "\n",
        "# alternatively,we can specify coordinates for the legend box:\n",
        "# ax.legend(loc=9, bbox_to_anchor=(-0.5,1.0), prop={'size':12})\n",
        "\n",
        "# inset axes for zooming-in at a portion of the plot\n",
        "axins = ax.inset_axes([0.2, 0.2, 0.2, 0.2])\n",
        "axins.plot([x for x in range(12,23)], fig_grades[12:23], '*', color=color_purple, label='')\n",
        "\n",
        "# the sub region of the original image that will be zoomed in\n",
        "x1, x2, y1, y2 = hours_array[12], hours_array[23], fig_grades[12], fig_grades[23] \n",
        "axins.set_xlim(x1, x2)\n",
        "axins.set_ylim(y1, y2)\n",
        "ax.indicate_inset_zoom(axins)\n",
        "\n",
        "# some more good figure practices\n",
        "\n",
        "ax.set_title('Figure grade after learning\\n good vizualization practices')\n",
        "\n",
        "ax.spines['top'].set_visible(False)\n",
        "ax.spines['right'].set_visible(False)\n",
        "ax.set_xlabel('Time spent making figure (hrs)', fontsize=14)\n",
        "ax.set_ylabel('Figure grade', fontsize=14)\n",
        "\n",
        "plt.xticks([2,8,13,24],[hours_array[2],hours_array[8], hours_array[13],hours_array[23]])\n",
        "           \n",
        "ax.set_xlim(0,25)\n",
        "ax.set_ylim(0,11)\n",
        "\n",
        "fig.tight_layout()\n",
        "plt.show()\n"
      ],
      "execution_count": 5,
      "outputs": [
        {
          "output_type": "display_data",
          "data": {
            "image/png": "[encoded data removed]",
            "text/plain": [
              "<Figure size 500x500 with 1 Axes>"
            ]
          },
          "metadata": {
            "tags": [],
            "needs_background": "light"
          }
        }
      ]
    },
    {
      "cell_type": "markdown",
      "metadata": {
        "id": "WGKN_N_wRhsc"
      },
      "source": [
        "# Interested in learning more and making the above figures even better? Join us at the \"Breeze up to a Great Viz\" workshop!"
      ]
    },
    {
      "cell_type": "code",
      "metadata": {
        "id": "vERndAbpaq6h"
      },
      "source": [
        ""
      ],
      "execution_count": 5,
      "outputs": []
    }
  ]
}